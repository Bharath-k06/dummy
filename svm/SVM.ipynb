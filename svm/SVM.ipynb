{
  "cells": [
    {
      "cell_type": "code",
      "execution_count": 2,
      "metadata": {
        "colab": {
          "base_uri": "https://localhost:8080/"
        },
        "id": "7m7IrjxPNfGm",
        "outputId": "9e3ea823-4969-4ae0-bfe9-4bb58eec182b"
      },
      "outputs": [
        {
          "output_type": "stream",
          "name": "stdout",
          "text": [
            "w=  [[ 0.25 -0.25]]\n",
            "b=  [-0.75]\n",
            "Indices of support vectors =  [2 3]\n",
            "Support vectors =  [[ 2.  3.]\n",
            " [ 6. -1.]]\n",
            "Number of support vectors for each class =  [1 1]\n",
            "Coefficients of the support vector in the decision function =  [[0.0625 0.0625]]\n"
          ]
        }
      ],
      "source": [
        "from sklearn.svm import SVC\n",
        "import numpy as np\n",
        "\n",
        "x=np.array([[3,4],[1,4],[2,3],[6,-1],[7,-1],[5,-3]])\n",
        "y=np.array([-1,-1,-1,1,1,1])\n",
        "\n",
        "clf=SVC(C=1e5,kernel='linear')\n",
        "clf.fit(x,y)\n",
        "\n",
        "print('w= ',clf.coef_)\n",
        "print('b= ',clf.intercept_)\n",
        "print('Indices of support vectors = ',clf.support_)\n",
        "print('Support vectors = ',clf.support_vectors_)\n",
        "print('Number of support vectors for each class = ',clf.n_support_)\n",
        "print('Coefficients of the support vector in the decision function = ',np.abs(clf.dual_coef_))"
      ]
    },
    {
      "cell_type": "code",
      "execution_count": 4,
      "metadata": {
        "colab": {
          "base_uri": "https://localhost:8080/"
        },
        "id": "GD9bk4nvNfGp",
        "outputId": "3ac02636-ca67-4035-ad5e-c080bdcd92ec"
      },
      "outputs": [
        {
          "output_type": "stream",
          "name": "stdout",
          "text": [
            "      Id       RI     Na    Mg    Al    Si      K    Ca    Ba   Fe  Type\n",
            "0      1  1.52101  13.64  4.49  1.10  71.78  0.06  8.75  0.00  0.0     1\n",
            "1      2  1.51761  13.89  3.60  1.36  72.73  0.48  7.83  0.00  0.0     1\n",
            "2      3  1.51618  13.53  3.55  1.54  72.99  0.39  7.78  0.00  0.0     1\n",
            "3      4  1.51766  13.21  3.69  1.29  72.61  0.57  8.22  0.00  0.0     1\n",
            "4      5  1.51742  13.27  3.62  1.24  73.08  0.55  8.07  0.00  0.0     1\n",
            "..   ...      ...    ...   ...   ...    ...   ...   ...   ...  ...   ...\n",
            "209  210  1.51623  14.14  0.00  2.88  72.61  0.08  9.18  1.06  0.0     7\n",
            "210  211  1.51685  14.92  0.00  1.99  73.06  0.00  8.40  1.59  0.0     7\n",
            "211  212  1.52065  14.36  0.00  2.02  73.42  0.00  8.44  1.64  0.0     7\n",
            "212  213  1.51651  14.38  0.00  1.94  73.61  0.00  8.48  1.57  0.0     7\n",
            "213  214  1.51711  14.23  0.00  2.08  73.36  0.00  8.62  1.67  0.0     7\n",
            "\n",
            "[214 rows x 11 columns]\n"
          ]
        }
      ],
      "source": [
        "import numpy as np\n",
        "import pandas as pd\n",
        "from matplotlib import pyplot as plt\n",
        "df=pd.read_csv(\"glass.csv\")\n",
        "print(df)"
      ]
    },
    {
      "cell_type": "code",
      "execution_count": 5,
      "metadata": {
        "colab": {
          "base_uri": "https://localhost:8080/"
        },
        "id": "9qWSdmZiNfGq",
        "outputId": "7c5551c5-31ca-4390-d182-8a73838351d4"
      },
      "outputs": [
        {
          "output_type": "stream",
          "name": "stdout",
          "text": [
            "[[-1.72397593  0.87286765  0.28495326 ... -0.35287683 -0.5864509\n",
            "  -0.84827468]\n",
            " [-1.70778837 -0.24933347  0.59181718 ... -0.35287683 -0.5864509\n",
            "  -0.84827468]\n",
            " [-1.6916008  -0.72131806  0.14993314 ... -0.35287683 -0.5864509\n",
            "  -0.84827468]\n",
            " ...\n",
            " [ 1.6916008   0.75404635  1.16872135 ...  2.95320036 -0.5864509\n",
            "   2.01047778]\n",
            " [ 1.70778837 -0.61239854  1.19327046 ...  2.81208731 -0.5864509\n",
            "   2.01047778]\n",
            " [ 1.72397593 -0.41436305  1.00915211 ...  3.01367739 -0.5864509\n",
            "   2.01047778]]\n"
          ]
        }
      ],
      "source": [
        "from sklearn.preprocessing import StandardScaler\n",
        "scaler = StandardScaler()\n",
        "print(scaler.fit_transform(df))"
      ]
    },
    {
      "cell_type": "code",
      "execution_count": 6,
      "metadata": {
        "id": "LcW_9SlJNfGq"
      },
      "outputs": [],
      "source": [
        "x=df.drop('Type',axis=1)\n",
        "y=df.Type"
      ]
    },
    {
      "cell_type": "code",
      "execution_count": 7,
      "metadata": {
        "id": "oZ_-L5f_NfGr"
      },
      "outputs": [],
      "source": [
        "from sklearn.model_selection import train_test_split\n",
        "x_train,x_test,y_train,y_test=train_test_split(x,y,test_size=0.3)"
      ]
    },
    {
      "cell_type": "code",
      "execution_count": 8,
      "metadata": {
        "colab": {
          "base_uri": "https://localhost:8080/"
        },
        "id": "j3_WQhPvNfGr",
        "outputId": "0d96f473-57e2-4f28-916c-92b874b93982"
      },
      "outputs": [
        {
          "output_type": "execute_result",
          "data": {
            "text/plain": [
              "SVC(kernel='linear')"
            ]
          },
          "metadata": {},
          "execution_count": 8
        }
      ],
      "source": [
        "from sklearn import svm\n",
        "ml=svm.SVC(kernel='linear')\n",
        "ml.fit(x_train,y_train)"
      ]
    },
    {
      "cell_type": "code",
      "execution_count": 9,
      "metadata": {
        "colab": {
          "base_uri": "https://localhost:8080/"
        },
        "id": "_2JSLFZaNfGs",
        "outputId": "d3fce025-2c44-45d8-e70a-d6a0fc88d3df"
      },
      "outputs": [
        {
          "output_type": "stream",
          "name": "stdout",
          "text": [
            "[[7.00000e+01 1.52300e+00 1.33100e+01 3.58000e+00 8.20000e-01 7.19900e+01\n",
            "  1.20000e-01 1.01700e+01 0.00000e+00 3.00000e-02]\n",
            " [1.46000e+02 1.51839e+00 1.28500e+01 3.67000e+00 1.24000e+00 7.25700e+01\n",
            "  6.20000e-01 8.68000e+00 0.00000e+00 3.50000e-01]\n",
            " [7.20000e+01 1.51848e+00 1.36400e+01 3.87000e+00 1.27000e+00 7.19600e+01\n",
            "  5.40000e-01 8.32000e+00 0.00000e+00 3.20000e-01]\n",
            " [1.63000e+02 1.52211e+00 1.41900e+01 3.78000e+00 9.10000e-01 7.13600e+01\n",
            "  2.30000e-01 9.14000e+00 0.00000e+00 3.70000e-01]\n",
            " [1.47000e+02 1.51769e+00 1.36500e+01 3.66000e+00 1.11000e+00 7.27700e+01\n",
            "  1.10000e-01 8.60000e+00 0.00000e+00 0.00000e+00]\n",
            " [1.62000e+02 1.51934e+00 1.36400e+01 3.54000e+00 7.50000e-01 7.26500e+01\n",
            "  1.60000e-01 8.89000e+00 1.50000e-01 2.40000e-01]\n",
            " [1.65000e+02 1.51915e+00 1.27300e+01 1.85000e+00 1.86000e+00 7.26900e+01\n",
            "  6.00000e-01 1.00900e+01 0.00000e+00 0.00000e+00]\n",
            " [1.76000e+02 1.52119e+00 1.29700e+01 3.30000e-01 1.51000e+00 7.33900e+01\n",
            "  1.30000e-01 1.12700e+01 0.00000e+00 2.80000e-01]\n",
            " [1.75000e+02 1.52058e+00 1.28500e+01 1.61000e+00 2.17000e+00 7.21800e+01\n",
            "  7.60000e-01 9.70000e+00 2.40000e-01 5.10000e-01]\n",
            " [1.81000e+02 1.51299e+00 1.44000e+01 1.74000e+00 1.54000e+00 7.45500e+01\n",
            "  0.00000e+00 7.59000e+00 0.00000e+00 0.00000e+00]\n",
            " [1.77000e+02 1.51905e+00 1.40000e+01 2.39000e+00 1.56000e+00 7.23700e+01\n",
            "  0.00000e+00 9.57000e+00 0.00000e+00 0.00000e+00]\n",
            " [1.84000e+02 1.51969e+00 1.45600e+01 0.00000e+00 5.60000e-01 7.34800e+01\n",
            "  0.00000e+00 1.12200e+01 0.00000e+00 0.00000e+00]\n",
            " [1.88000e+02 1.52315e+00 1.34400e+01 3.34000e+00 1.23000e+00 7.23800e+01\n",
            "  6.00000e-01 8.83000e+00 0.00000e+00 0.00000e+00]]\n"
          ]
        }
      ],
      "source": [
        "print(ml.support_vectors_)"
      ]
    },
    {
      "cell_type": "code",
      "execution_count": 10,
      "metadata": {
        "colab": {
          "base_uri": "https://localhost:8080/"
        },
        "id": "AezzI51yNfGt",
        "outputId": "d2621e45-f584-4890-e6a0-b247e0f8bc72"
      },
      "outputs": [
        {
          "output_type": "stream",
          "name": "stdout",
          "text": [
            "[1 2 3 3 3 1]\n"
          ]
        }
      ],
      "source": [
        "print(ml.n_support_)"
      ]
    },
    {
      "cell_type": "code",
      "execution_count": 11,
      "metadata": {
        "id": "epjRrzVANfGt"
      },
      "outputs": [],
      "source": [
        "y_pred=ml.predict(x_test)"
      ]
    },
    {
      "cell_type": "code",
      "execution_count": 12,
      "metadata": {
        "colab": {
          "base_uri": "https://localhost:8080/"
        },
        "id": "_aMNzhnwNfGu",
        "outputId": "9a023ab9-e126-4ac3-8eda-4bdbfd68ea97"
      },
      "outputs": [
        {
          "output_type": "stream",
          "name": "stdout",
          "text": [
            "0.9846153846153847\n"
          ]
        }
      ],
      "source": [
        "from sklearn.metrics import accuracy_score,confusion_matrix,classification_report\n",
        "print(accuracy_score(y_test,y_pred))"
      ]
    },
    {
      "cell_type": "code",
      "execution_count": 13,
      "metadata": {
        "colab": {
          "base_uri": "https://localhost:8080/"
        },
        "id": "CSpb7gKGNfGu",
        "outputId": "1631373f-ba38-4c08-eec1-cfa8f0f1cccd"
      },
      "outputs": [
        {
          "output_type": "stream",
          "name": "stdout",
          "text": [
            "[[24  0  0  0  0  0]\n",
            " [ 0 22  0  0  0  0]\n",
            " [ 0  0  5  0  0  0]\n",
            " [ 0  0  1  1  0  0]\n",
            " [ 0  0  0  0  4  0]\n",
            " [ 0  0  0  0  0  8]]\n"
          ]
        }
      ],
      "source": [
        "print(confusion_matrix(y_test,y_pred))"
      ]
    },
    {
      "cell_type": "code",
      "execution_count": 14,
      "metadata": {
        "colab": {
          "base_uri": "https://localhost:8080/"
        },
        "id": "5COdl2_dNfGv",
        "outputId": "fc8a2038-cd3d-4d63-a750-1408cea05a97"
      },
      "outputs": [
        {
          "output_type": "stream",
          "name": "stdout",
          "text": [
            "              precision    recall  f1-score   support\n",
            "\n",
            "           1       1.00      1.00      1.00        24\n",
            "           2       1.00      1.00      1.00        22\n",
            "           3       0.83      1.00      0.91         5\n",
            "           5       1.00      0.50      0.67         2\n",
            "           6       1.00      1.00      1.00         4\n",
            "           7       1.00      1.00      1.00         8\n",
            "\n",
            "    accuracy                           0.98        65\n",
            "   macro avg       0.97      0.92      0.93        65\n",
            "weighted avg       0.99      0.98      0.98        65\n",
            "\n"
          ]
        }
      ],
      "source": [
        "print(classification_report(y_test,y_pred))"
      ]
    },
    {
      "cell_type": "code",
      "execution_count": 15,
      "metadata": {
        "id": "rVnC_hfgNfGw"
      },
      "outputs": [],
      "source": [
        "model1=SVC(kernel='sigmoid')\n",
        "model2=SVC(kernel='poly')\n",
        "model3=SVC(kernel='rbf')"
      ]
    },
    {
      "cell_type": "code",
      "execution_count": 16,
      "metadata": {
        "colab": {
          "base_uri": "https://localhost:8080/"
        },
        "id": "yAkYIikONfGw",
        "outputId": "cfe97a2a-3c4d-481d-aae3-d86926e1123e"
      },
      "outputs": [
        {
          "output_type": "execute_result",
          "data": {
            "text/plain": [
              "SVC()"
            ]
          },
          "metadata": {},
          "execution_count": 16
        }
      ],
      "source": [
        "#With Different Kernels\n",
        "\n",
        "model1.fit(x_train,y_train)\n",
        "model2.fit(x_train,y_train)\n",
        "model3.fit(x_train,y_train)"
      ]
    },
    {
      "cell_type": "code",
      "execution_count": 17,
      "metadata": {
        "id": "A_k3jIh8NfGx"
      },
      "outputs": [],
      "source": [
        "ypred1=model1.predict(x_test)\n",
        "ypred2=model2.predict(x_test)\n",
        "ypred3=model3.predict(x_test)"
      ]
    },
    {
      "cell_type": "code",
      "execution_count": 18,
      "metadata": {
        "colab": {
          "base_uri": "https://localhost:8080/"
        },
        "id": "tUNMwQZVNfGy",
        "outputId": "eef7e241-781e-4378-ce1a-99536154da94"
      },
      "outputs": [
        {
          "output_type": "stream",
          "name": "stdout",
          "text": [
            "0.6923076923076923\n"
          ]
        }
      ],
      "source": [
        "print(accuracy_score(y_test,ypred1))"
      ]
    },
    {
      "cell_type": "code",
      "execution_count": 19,
      "metadata": {
        "colab": {
          "base_uri": "https://localhost:8080/"
        },
        "id": "XXwUZPLDNfGy",
        "outputId": "1beae07e-d393-491f-84ae-67bb8ab0fe12"
      },
      "outputs": [
        {
          "output_type": "stream",
          "name": "stdout",
          "text": [
            "0.9230769230769231\n"
          ]
        }
      ],
      "source": [
        "print(accuracy_score(y_test,ypred2))"
      ]
    },
    {
      "cell_type": "code",
      "execution_count": 20,
      "metadata": {
        "colab": {
          "base_uri": "https://localhost:8080/"
        },
        "id": "CntvIRWqNfGz",
        "outputId": "28e32b67-1338-4509-d6d6-83a21faee17c"
      },
      "outputs": [
        {
          "output_type": "stream",
          "name": "stdout",
          "text": [
            "0.8307692307692308\n"
          ]
        }
      ],
      "source": [
        "print(accuracy_score(y_test,ypred3))"
      ]
    },
    {
      "cell_type": "code",
      "execution_count": 21,
      "metadata": {
        "colab": {
          "base_uri": "https://localhost:8080/"
        },
        "id": "YVVGtC4WNfGz",
        "outputId": "504cb8f8-00ec-4ef1-a1bd-84c57b7944f6"
      },
      "outputs": [
        {
          "output_type": "execute_result",
          "data": {
            "text/plain": [
              "[{'C': [1, 10, 100, 1000], 'gamma': [0.001, 0.0001], 'kernel': ['rbf']},\n",
              " {'C': [1, 10, 100, 1000], 'kernel': ['linear']},\n",
              " {'degree': [2, 3, 4], 'gamma': [0.001, 0.0001], 'kernel': ['poly']},\n",
              " {'C': [1, 10, 100, 1000],\n",
              "  'gamma': [0.001, 0.0001, 1e-05],\n",
              "  'kernel': ['sigmoid']}]"
            ]
          },
          "metadata": {},
          "execution_count": 21
        }
      ],
      "source": [
        "#Array method of using different kernels\n",
        "\n",
        "[{'kernel':['rbf'],'gamma':[1e-3,1e-4],\n",
        "     'C':[1,10,100,1000]},\n",
        "{'kernel':['linear'],'C':[1,10,100,1000]},\n",
        "{'kernel':['poly'],'gamma':[1e-3,1e-4],'degree':[2,3,4]},\n",
        "{'kernel':['sigmoid'],'C':[1,10,100,1000],'gamma':[1e-3,1e-4,1e-5]}]"
      ]
    },
    {
      "cell_type": "code",
      "execution_count": 22,
      "metadata": {
        "id": "4o8RHmmCNfG0"
      },
      "outputs": [],
      "source": [
        "params_grid1=[{'kernel':['rbf']},\n",
        "             {'kernel':['linear']},\n",
        "             {'kernel':['poly']},\n",
        "             {'kernel':['sigmoid']}]"
      ]
    },
    {
      "cell_type": "code",
      "execution_count": 23,
      "metadata": {
        "colab": {
          "base_uri": "https://localhost:8080/"
        },
        "id": "7W0-F0svNfG0",
        "outputId": "44eaf4dd-59e9-4189-ac67-2459b02287b0"
      },
      "outputs": [
        {
          "output_type": "execute_result",
          "data": {
            "text/plain": [
              "GridSearchCV(cv=5, estimator=SVC(),\n",
              "             param_grid=[{'kernel': ['rbf']}, {'kernel': ['linear']},\n",
              "                         {'kernel': ['poly']}, {'kernel': ['sigmoid']}])"
            ]
          },
          "metadata": {},
          "execution_count": 23
        }
      ],
      "source": [
        "from sklearn.model_selection import GridSearchCV\n",
        "svm_model=GridSearchCV(SVC(),params_grid1,cv=5)\n",
        "svm_model.fit(x_train,y_train)"
      ]
    },
    {
      "cell_type": "code",
      "execution_count": 24,
      "metadata": {
        "colab": {
          "base_uri": "https://localhost:8080/"
        },
        "id": "XgotHOnNNfG1",
        "outputId": "d49cff25-8c8f-4344-8216-6c1f06ec048a"
      },
      "outputs": [
        {
          "output_type": "stream",
          "name": "stdout",
          "text": [
            "Best score for training data: 0.9933333333333334 \n",
            "\n",
            "Best C: 1.0 \n",
            "\n",
            "Best Kernel: linear \n",
            "\n",
            "Best Gamma: scale \n",
            "\n"
          ]
        }
      ],
      "source": [
        "print('Best score for training data:',svm_model.best_score_,\"\\n\")\n",
        "\n",
        "#View the best parameters for the model found using grid search\n",
        "print('Best C:',svm_model.best_estimator_.C,\"\\n\")\n",
        "print('Best Kernel:',svm_model.best_estimator_.kernel,\"\\n\")\n",
        "print('Best Gamma:',svm_model.best_estimator_.gamma,\"\\n\")\n",
        "\n",
        "final_model=svm_model.best_estimator_\n",
        "Y_pred=final_model.predict(x_test)"
      ]
    },
    {
      "cell_type": "code",
      "execution_count": 25,
      "metadata": {
        "colab": {
          "base_uri": "https://localhost:8080/"
        },
        "id": "QLQH98EbNfG1",
        "outputId": "066cc8fc-db8b-4697-b5bd-dbfc144ed0f8"
      },
      "outputs": [
        {
          "output_type": "stream",
          "name": "stdout",
          "text": [
            "0.9846153846153847\n"
          ]
        }
      ],
      "source": [
        "print(accuracy_score(y_test,Y_pred))"
      ]
    }
  ],
  "metadata": {
    "kernelspec": {
      "display_name": "Python 3",
      "language": "python",
      "name": "python3"
    },
    "language_info": {
      "codemirror_mode": {
        "name": "ipython",
        "version": 3
      },
      "file_extension": ".py",
      "mimetype": "text/x-python",
      "name": "python",
      "nbconvert_exporter": "python",
      "pygments_lexer": "ipython3",
      "version": "3.8.5"
    },
    "colab": {
      "name": "SVM.ipynb",
      "provenance": []
    }
  },
  "nbformat": 4,
  "nbformat_minor": 0
}